{
  "nbformat": 4,
  "nbformat_minor": 0,
  "metadata": {
    "colab": {
      "name": "Assignment 2 - Data Types.ipynb",
      "provenance": [],
      "collapsed_sections": [],
      "include_colab_link": true
    },
    "kernelspec": {
      "name": "python3",
      "display_name": "Python 3"
    }
  },
  "cells": [
    {
      "cell_type": "markdown",
      "metadata": {
        "id": "view-in-github",
        "colab_type": "text"
      },
      "source": [
        "<a href=\"https://colab.research.google.com/github/Akosua-Toria/codetopia-A/blob/main/Assignment_2_Data_Types.ipynb\" target=\"_parent\"><img src=\"https://colab.research.google.com/assets/colab-badge.svg\" alt=\"Open In Colab\"/></a>"
      ]
    },
    {
      "cell_type": "markdown",
      "metadata": {
        "id": "jAvAN1PiB8bc"
      },
      "source": [
        "# 1. BOOLEANS"
      ]
    },
    {
      "cell_type": "markdown",
      "metadata": {
        "id": "zK3GTZaCFwNt"
      },
      "source": [
        "**MINI CHALLENGE #1:** \n",
        "- **What will this code generate?**\n",
        "```\n",
        "number_of_pens = 20\n",
        "number_of_bicycles = 30\n",
        "print((number_of_pens < number_of_bicycles))\n",
        "print(number_of_pens == number_of_bicycles)\n",
        "```"
      ]
    },
    {
      "cell_type": "code",
      "metadata": {
        "id": "Fk7waP-xUtan",
        "outputId": "ba230e13-fcad-4802-96c9-e8c49aa0bf88",
        "colab": {
          "base_uri": "https://localhost:8080/"
        }
      },
      "source": [
        "number_of_pens = 20\n",
        "number_of_bicycles = 30\n",
        "print((number_of_pens < number_of_bicycles))\n",
        "print(number_of_pens == number_of_bicycles)"
      ],
      "execution_count": 1,
      "outputs": [
        {
          "output_type": "stream",
          "name": "stdout",
          "text": [
            "True\n",
            "False\n"
          ]
        }
      ]
    },
    {
      "cell_type": "markdown",
      "metadata": {
        "id": "_5r-dUNX7nfy"
      },
      "source": [
        "# 2. LIST"
      ]
    },
    {
      "cell_type": "markdown",
      "metadata": {
        "id": "Q1qcVBl7G1GO"
      },
      "source": [
        "**MINI CHALLENGE #2:**\n",
        "- **Print the first, second and last element in the list below**\n",
        "- **Print all elements in the list, first 3 elements, and last three elements**\n",
        "\n",
        "```\n",
        "list_1 = [\"NAME\", \"AGE\", \"SEX\", \"KOFI\", \"222\", \"AMA\", \"YAW\"]\n",
        "```\n",
        "\n"
      ]
    },
    {
      "cell_type": "code",
      "metadata": {
        "id": "JRzipHhbwf6x",
        "outputId": "2fc3e253-869c-4513-c9aa-87d1011e4524",
        "colab": {
          "base_uri": "https://localhost:8080/",
          "height": 231
        }
      },
      "source": [
        "list_1 = [\"NAME\", \"AGE\",  \"SEX\", \"KOFI\", \"AMA\", \"YAW\"]\n",
        "\n",
        "Print [\"NAME\", \"AGE\", \"SEX\" \"KOFI\" \"AMA\" \"YAW\"]\n",
        "Print [\"NAME\", \"AGE\", \"SEX\"]\n",
        "print [\"222\", \"AMA\", \"YAW\"]"
      ],
      "execution_count": 6,
      "outputs": [
        {
          "output_type": "error",
          "ename": "NameError",
          "evalue": "ignored",
          "traceback": [
            "\u001b[0;31m---------------------------------------------------------------------------\u001b[0m",
            "\u001b[0;31mNameError\u001b[0m                                 Traceback (most recent call last)",
            "\u001b[0;32m<ipython-input-6-00c0bc894c2d>\u001b[0m in \u001b[0;36m<module>\u001b[0;34m()\u001b[0m\n\u001b[1;32m      1\u001b[0m \u001b[0mlist_1\u001b[0m \u001b[0;34m=\u001b[0m \u001b[0;34m[\u001b[0m\u001b[0;34m\"NAME\"\u001b[0m\u001b[0;34m,\u001b[0m \u001b[0;34m\"AGE\"\u001b[0m\u001b[0;34m,\u001b[0m  \u001b[0;34m\"SEX\"\u001b[0m\u001b[0;34m,\u001b[0m \u001b[0;34m\"KOFI\"\u001b[0m\u001b[0;34m,\u001b[0m \u001b[0;34m\"AMA\"\u001b[0m\u001b[0;34m,\u001b[0m \u001b[0;34m\"YAW\"\u001b[0m\u001b[0;34m]\u001b[0m\u001b[0;34m\u001b[0m\u001b[0;34m\u001b[0m\u001b[0m\n\u001b[1;32m      2\u001b[0m \u001b[0;34m\u001b[0m\u001b[0m\n\u001b[0;32m----> 3\u001b[0;31m \u001b[0mPrint\u001b[0m \u001b[0;34m[\u001b[0m\u001b[0;34m\"NAME\"\u001b[0m\u001b[0;34m,\u001b[0m \u001b[0;34m\"AGE\"\u001b[0m\u001b[0;34m,\u001b[0m \u001b[0;34m\"SEX\"\u001b[0m \u001b[0;34m\"KOFI\"\u001b[0m \u001b[0;34m\"AMA\"\u001b[0m \u001b[0;34m\"YAW\"\u001b[0m\u001b[0;34m]\u001b[0m\u001b[0;34m\u001b[0m\u001b[0;34m\u001b[0m\u001b[0m\n\u001b[0m\u001b[1;32m      4\u001b[0m \u001b[0mPrint\u001b[0m \u001b[0;34m[\u001b[0m\u001b[0;34m\"NAME\"\u001b[0m\u001b[0;34m,\u001b[0m \u001b[0;34m\"AGE\"\u001b[0m\u001b[0;34m,\u001b[0m \u001b[0;34m\"SEX\"\u001b[0m\u001b[0;34m]\u001b[0m\u001b[0;34m\u001b[0m\u001b[0;34m\u001b[0m\u001b[0m\n\u001b[1;32m      5\u001b[0m \u001b[0mprint\u001b[0m \u001b[0;34m[\u001b[0m\u001b[0;34m\"222\"\u001b[0m\u001b[0;34m,\u001b[0m \u001b[0;34m\"AMA\"\u001b[0m\u001b[0;34m,\u001b[0m \u001b[0;34m\"YAW\"\u001b[0m\u001b[0;34m]\u001b[0m\u001b[0;34m\u001b[0m\u001b[0;34m\u001b[0m\u001b[0m\n",
            "\u001b[0;31mNameError\u001b[0m: name 'Print' is not defined"
          ]
        }
      ]
    },
    {
      "cell_type": "markdown",
      "metadata": {
        "id": "pqPdr6RNINsf"
      },
      "source": [
        "**MINI CHALLENGE #3:** \n",
        "- **Print NAME**\n",
        "- **Print AGE, NAME, KOFI** \n",
        "- **Print T with two different ways**\n",
        "\n",
        "```\n",
        "my_list = [\"KWAMI\", [\"AGE\", \"NAME\", \"KOFI\"], \"YAW\", \"T\"]\n",
        "```\n"
      ]
    },
    {
      "cell_type": "code",
      "metadata": {
        "id": "VoKm_uJLwkJm",
        "outputId": "9acc15fd-130e-4055-a77d-3c73b730733b",
        "colab": {
          "base_uri": "https://localhost:8080/",
          "height": 163
        }
      },
      "source": [
        "Print[\"name\"]"
      ],
      "execution_count": 9,
      "outputs": [
        {
          "output_type": "error",
          "ename": "NameError",
          "evalue": "ignored",
          "traceback": [
            "\u001b[0;31m---------------------------------------------------------------------------\u001b[0m",
            "\u001b[0;31mNameError\u001b[0m                                 Traceback (most recent call last)",
            "\u001b[0;32m<ipython-input-9-25f52d04c813>\u001b[0m in \u001b[0;36m<module>\u001b[0;34m()\u001b[0m\n\u001b[0;32m----> 1\u001b[0;31m \u001b[0mPrint\u001b[0m\u001b[0;34m[\u001b[0m\u001b[0;34m\"name\"\u001b[0m\u001b[0;34m]\u001b[0m\u001b[0;34m\u001b[0m\u001b[0;34m\u001b[0m\u001b[0m\n\u001b[0m",
            "\u001b[0;31mNameError\u001b[0m: name 'Print' is not defined"
          ]
        }
      ]
    },
    {
      "cell_type": "markdown",
      "metadata": {
        "id": "7a2j5iF8CYCU"
      },
      "source": [
        "# 3. DICTIONARY"
      ]
    },
    {
      "cell_type": "markdown",
      "metadata": {
        "id": "9llozT9XLiqI"
      },
      "source": [
        "**MINI CHALLENGE #4:**\n",
        "- **Create a dictionary with 6 of your favourite items and their prices** \n"
      ]
    },
    {
      "cell_type": "code",
      "metadata": {
        "id": "KHOBUBNeKDXr"
      },
      "source": [
        ""
      ],
      "execution_count": null,
      "outputs": []
    },
    {
      "cell_type": "markdown",
      "metadata": {
        "id": "6kLIKQOZ6rNe"
      },
      "source": [
        "# 4. STRINGS"
      ]
    },
    {
      "cell_type": "markdown",
      "metadata": {
        "id": "9cN9W4bkM-vs"
      },
      "source": [
        "**MINI CHALLENGE #5:**\n",
        "- **Write a code that takes an input from a student asking him/her about their feedback regarding the course. The code should split the atudent input into words and print them on screen**\n"
      ]
    },
    {
      "cell_type": "code",
      "metadata": {
        "id": "6C17ix5xpr4p"
      },
      "source": [
        ""
      ],
      "execution_count": null,
      "outputs": []
    },
    {
      "cell_type": "markdown",
      "metadata": {
        "id": "EdyxRUooNz5m"
      },
      "source": [
        "**MINI CHALLENGE #6:**\n",
        "- **Write a code that prompts a user requesting his/her e-mail and then extracts the user first name (Note that the e-mail is in firstname.lastname@gmail.com**\n"
      ]
    },
    {
      "cell_type": "code",
      "metadata": {
        "id": "0P41ds4zNrKl"
      },
      "source": [
        ""
      ],
      "execution_count": null,
      "outputs": []
    },
    {
      "cell_type": "markdown",
      "metadata": {
        "id": "A0luXBRqEGai"
      },
      "source": [
        "# 5. TUPLES"
      ]
    },
    {
      "cell_type": "markdown",
      "metadata": {
        "id": "RmZ49NcKPKII"
      },
      "source": [
        "**MINI CHALLENGE #7:**\n",
        "- **Define a tuple with your first name, last name, age and the number of friends. Find the length and type as well.**\n"
      ]
    },
    {
      "cell_type": "code",
      "metadata": {
        "id": "xMKjCcejQtJI"
      },
      "source": [
        ""
      ],
      "execution_count": null,
      "outputs": []
    },
    {
      "cell_type": "markdown",
      "metadata": {
        "id": "B7clmiIJEJF0"
      },
      "source": [
        "# 6. SETS "
      ]
    },
    {
      "cell_type": "markdown",
      "metadata": {
        "id": "XjibM376ROGD"
      },
      "source": [
        "**MINI CHALLENGE #8:**\n",
        "- **Remove the duplicates from the following list:**\n",
        "\n",
        "\n",
        "```\n",
        "my_list = ['NAME', 'AGE', 'T','SEX','T','AGE', 5, 6,5]\n",
        "```\n",
        "\n",
        "\n"
      ]
    },
    {
      "cell_type": "code",
      "metadata": {
        "id": "EpKrum8GSOuv"
      },
      "source": [
        ""
      ],
      "execution_count": null,
      "outputs": []
    }
  ]
}