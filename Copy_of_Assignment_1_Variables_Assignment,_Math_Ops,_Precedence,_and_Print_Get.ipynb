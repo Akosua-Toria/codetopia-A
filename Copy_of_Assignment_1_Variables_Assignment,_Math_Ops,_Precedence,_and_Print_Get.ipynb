{
  "nbformat": 4,
  "nbformat_minor": 0,
  "metadata": {
    "colab": {
      "name": "Copy of Assignment 1 - Variables Assignment, Math Ops, Precedence, and Print_Get.ipynb",
      "provenance": [],
      "collapsed_sections": [],
      "include_colab_link": true
    },
    "kernelspec": {
      "name": "python3",
      "display_name": "Python 3"
    }
  },
  "cells": [
    {
      "cell_type": "markdown",
      "metadata": {
        "id": "view-in-github",
        "colab_type": "text"
      },
      "source": [
        "<a href=\"https://colab.research.google.com/github/Akosua-Toria/codetopia-A/blob/main/Copy_of_Assignment_1_Variables_Assignment%2C_Math_Ops%2C_Precedence%2C_and_Print_Get.ipynb\" target=\"_parent\"><img src=\"https://colab.research.google.com/assets/colab-badge.svg\" alt=\"Open In Colab\"/></a>"
      ]
    },
    {
      "cell_type": "markdown",
      "metadata": {
        "id": "B1KBXIYhkuw5"
      },
      "source": [
        "# 1. VARIABLES ASSIGNMENT"
      ]
    },
    {
      "cell_type": "markdown",
      "metadata": {
        "id": "75YN6NcVlv50"
      },
      "source": [
        "**MINI CHALLENGE #1:**\n",
        "- **We defined a variable student_id and we assigned these 3 values listed below to it. Without executing any code cells, what will these lines of code generate?**\n",
        "- **Verify your answer by executing the code cells** \n",
        "\n",
        "\n",
        "\n",
        "```\n",
        "student_id = 3324\n",
        "student_id = 3400\n",
        "student_id = 3530\n",
        "student_id\n",
        "```\n"
      ]
    },
    {
      "cell_type": "code",
      "metadata": {
        "id": "AbXq1BsUpcpu",
        "colab": {
          "base_uri": "https://localhost:8080/"
        },
        "outputId": "0913d01d-43a8-41cf-dd44-3c7834ae7faa"
      },
      "source": [
        "student_id = 3324\n",
        "student_id = 3400\n",
        "student_id = 3530\n",
        "student_id "
      ],
      "execution_count": 1,
      "outputs": [
        {
          "output_type": "execute_result",
          "data": {
            "text/plain": [
              "3530"
            ]
          },
          "metadata": {},
          "execution_count": 1
        }
      ]
    },
    {
      "cell_type": "markdown",
      "metadata": {
        "id": "m-cJsnjeoFOa"
      },
      "source": [
        "**MINI CHALLENGE #2:**\n",
        "- **We defined a variable codetopia_id and we assigned these 2 values listed below to it. Without executing any code cells, what will these lines of code generate?**\n",
        "- **Verify your answer by executing the code cells** \n",
        "\n",
        "\n",
        "\n",
        "```\n",
        "codetopia_id = 112\n",
        "codetopia_id = 115.3\n",
        "type(codetopia_id)\n",
        "```\n"
      ]
    },
    {
      "cell_type": "code",
      "metadata": {
        "id": "wjaFVDJ2oESl",
        "colab": {
          "base_uri": "https://localhost:8080/"
        },
        "outputId": "b54bfd07-82f7-4637-fa23-e18ac3126ccd"
      },
      "source": [
        "codetopia_id = 112\n",
        "codetopia_id = 115.3\n",
        "type(codetopia_id)"
      ],
      "execution_count": 2,
      "outputs": [
        {
          "output_type": "execute_result",
          "data": {
            "text/plain": [
              "float"
            ]
          },
          "metadata": {},
          "execution_count": 2
        }
      ]
    },
    {
      "cell_type": "markdown",
      "metadata": {
        "id": "lsCfJJEkkqGQ"
      },
      "source": [
        "# 2. MATH OPERATIONS"
      ]
    },
    {
      "cell_type": "markdown",
      "metadata": {
        "id": "8UaT7FRdNnCQ"
      },
      "source": [
        "**MINI CHALLENGE #3:** \n",
        "- **Write a code that calculates the total amount of money codetopia management spends on tutor fees if the total number of tutors are 23 and each tutor is paid 2500 cedis** \n"
      ]
    },
    {
      "cell_type": "code",
      "metadata": {
        "id": "qMFnXorONnoa",
        "colab": {
          "base_uri": "https://localhost:8080/"
        },
        "outputId": "b13a8d8c-a88a-4bbc-afd2-9669a82e7a9e"
      },
      "source": [
        "(23*2500)"
      ],
      "execution_count": 3,
      "outputs": [
        {
          "output_type": "execute_result",
          "data": {
            "text/plain": [
              "57500"
            ]
          },
          "metadata": {},
          "execution_count": 3
        }
      ]
    },
    {
      "cell_type": "markdown",
      "metadata": {
        "id": "iB_6pgJeNnCV"
      },
      "source": [
        "**MINI CHALLENGE #4:**\n",
        "- **Write a code that takes in the amount students paid a day and calculate the total amount of money received after two days:**\n",
        "  - **fees paid on day 1 = 260 cedis** \n",
        "  - **fees paid on day 2 = 280 cedis**"
      ]
    },
    {
      "cell_type": "code",
      "metadata": {
        "id": "eqOkR8Qkrgjr",
        "colab": {
          "base_uri": "https://localhost:8080/"
        },
        "outputId": "d2339dd0-faff-449e-9074-2f71b58a70f3"
      },
      "source": [
        "260+280"
      ],
      "execution_count": 5,
      "outputs": [
        {
          "output_type": "execute_result",
          "data": {
            "text/plain": [
              "540"
            ]
          },
          "metadata": {},
          "execution_count": 5
        }
      ]
    },
    {
      "cell_type": "markdown",
      "metadata": {
        "id": "b_4wxmCklMQE"
      },
      "source": [
        "# 3. ORDER OF OPERATIONS (PRECEDENCE)"
      ]
    },
    {
      "cell_type": "markdown",
      "metadata": {
        "id": "LD0jeVJddRrf"
      },
      "source": [
        "**MINI CHALLENGE #5:**\n",
        "- **Assume that 15 students joined the coding program at a fee of 300 cedis per a student. Codetopia later increased the fee to 500 cedis per a student. Calculate the profit that will be made.**\n",
        "\n",
        "\n",
        "\n",
        "\n"
      ]
    },
    {
      "cell_type": "code",
      "metadata": {
        "id": "ieENt2DUNwDC",
        "colab": {
          "base_uri": "https://localhost:8080/"
        },
        "outputId": "274fb3dc-e58f-4373-d051-e314b98c999b"
      },
      "source": [
        "(15*300)\n",
        "(15*500)\n",
        "(15*500) - (15*300)"
      ],
      "execution_count": 7,
      "outputs": [
        {
          "output_type": "execute_result",
          "data": {
            "text/plain": [
              "3000"
            ]
          },
          "metadata": {},
          "execution_count": 7
        }
      ]
    },
    {
      "cell_type": "markdown",
      "metadata": {
        "id": "s79S7MtycPGX"
      },
      "source": [
        "**MINI CHALLENGE #6:** \n",
        "- **Write a code that performs the following mathematical operation: z = |x − y| * (x + y)**"
      ]
    },
    {
      "cell_type": "code",
      "metadata": {
        "id": "yGVvKkDKc0LR",
        "colab": {
          "base_uri": "https://localhost:8080/",
          "height": 163
        },
        "outputId": "3727a06a-c4fc-4600-e2d0-c9134ee6b5d7"
      },
      "source": [
        "abs(x-y)+(x+y)"
      ],
      "execution_count": 14,
      "outputs": [
        {
          "output_type": "error",
          "ename": "NameError",
          "evalue": "ignored",
          "traceback": [
            "\u001b[0;31m---------------------------------------------------------------------------\u001b[0m",
            "\u001b[0;31mNameError\u001b[0m                                 Traceback (most recent call last)",
            "\u001b[0;32m<ipython-input-14-808ea96b2b3e>\u001b[0m in \u001b[0;36m<module>\u001b[0;34m()\u001b[0m\n\u001b[0;32m----> 1\u001b[0;31m \u001b[0mabs\u001b[0m\u001b[0;34m(\u001b[0m\u001b[0mx\u001b[0m\u001b[0;34m-\u001b[0m\u001b[0my\u001b[0m\u001b[0;34m)\u001b[0m\u001b[0;34m+\u001b[0m\u001b[0;34m(\u001b[0m\u001b[0mx\u001b[0m\u001b[0;34m+\u001b[0m\u001b[0my\u001b[0m\u001b[0;34m)\u001b[0m\u001b[0;34m\u001b[0m\u001b[0;34m\u001b[0m\u001b[0m\n\u001b[0m",
            "\u001b[0;31mNameError\u001b[0m: name 'x' is not defined"
          ]
        }
      ]
    },
    {
      "cell_type": "markdown",
      "metadata": {
        "id": "Jvxd_A696qnl"
      },
      "source": [
        "# 4. PRINT OPERATION"
      ]
    },
    {
      "cell_type": "markdown",
      "metadata": {
        "id": "__Ybj8rmGKpY"
      },
      "source": [
        "**MINI CHALLENGE #7:**\n",
        "- **Write a code that print out the statement below along with your name**\n",
        "- **i.e.: The total number of students at Codetopia are 30. (Barbara)** "
      ]
    },
    {
      "cell_type": "code",
      "metadata": {
        "id": "i6LmOCF6Gd6G",
        "colab": {
          "base_uri": "https://localhost:8080/"
        },
        "outputId": "1344654c-4055-456e-a37d-db1ca15ab085"
      },
      "source": [
        "name= '.(victoria)'\n",
        "print('the total number of students at codetopia are 30 {}'.format(name))"
      ],
      "execution_count": 11,
      "outputs": [
        {
          "output_type": "stream",
          "name": "stdout",
          "text": [
            "the total number of students at codetopia are 30 .(victoria)\n"
          ]
        }
      ]
    },
    {
      "cell_type": "markdown",
      "metadata": {
        "id": "hp9P-qXN-Gll"
      },
      "source": [
        "# 5. GET USER INPUT"
      ]
    },
    {
      "cell_type": "markdown",
      "metadata": {
        "id": "L8v5D4y1CIUQ"
      },
      "source": [
        "**MINI CHALLENGE #8:** \n",
        "- **Write a code that takes in the name of the company, course fee, the number of courses that you want to study and prints out the total funds required to pay for the courses. Find a sample expected output below:**\n",
        "\n",
        "  - Enter the fee for a course you want to study: 3000  \n",
        "  - Enter the number of courses that you want to pay for: 5\n",
        "  - Enter the name of the company that you want to study at: UniDev\n",
        "  - The total funds required to pay for 5 number of Codetopia courses at 3000 is 15000\n"
      ]
    },
    {
      "cell_type": "code",
      "metadata": {
        "id": "j3j5u_H8rxD-",
        "colab": {
          "base_uri": "https://localhost:8080/",
          "height": 129
        },
        "outputId": "d11c5942-b997-4761-97fb-71e9a47cc3e7"
      },
      "source": [
        ""
      ],
      "execution_count": 13,
      "outputs": [
        {
          "output_type": "error",
          "ename": "SyntaxError",
          "evalue": "ignored",
          "traceback": [
            "\u001b[0;36m  File \u001b[0;32m\"<ipython-input-13-72097711e49c>\"\u001b[0;36m, line \u001b[0;32m2\u001b[0m\n\u001b[0;31m    number of courses(5)\u001b[0m\n\u001b[0m            ^\u001b[0m\n\u001b[0;31mSyntaxError\u001b[0m\u001b[0;31m:\u001b[0m invalid syntax\n"
          ]
        }
      ]
    },
    {
      "cell_type": "markdown",
      "metadata": {
        "id": "Jm-0XhPntGtK"
      },
      "source": [
        "# EXCELLENT JOB"
      ]
    }
  ]
}