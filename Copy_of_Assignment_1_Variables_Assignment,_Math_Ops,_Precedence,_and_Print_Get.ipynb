{
  "nbformat": 4,
  "nbformat_minor": 0,
  "metadata": {
    "colab": {
      "name": "Copy of Assignment 1 - Variables Assignment, Math Ops, Precedence, and Print_Get.ipynb",
      "provenance": [],
      "collapsed_sections": [],
      "include_colab_link": true
    },
    "kernelspec": {
      "name": "python3",
      "display_name": "Python 3"
    }
  },
  "cells": [
    {
      "cell_type": "markdown",
      "metadata": {
        "id": "view-in-github",
        "colab_type": "text"
      },
      "source": [
        "<a href=\"https://colab.research.google.com/github/Akosua-Toria/codetopia-A/blob/main/Copy_of_Assignment_1_Variables_Assignment%2C_Math_Ops%2C_Precedence%2C_and_Print_Get.ipynb\" target=\"_parent\"><img src=\"https://colab.research.google.com/assets/colab-badge.svg\" alt=\"Open In Colab\"/></a>"
      ]
    },
    {
      "cell_type": "markdown",
      "metadata": {
        "id": "B1KBXIYhkuw5"
      },
      "source": [
        "# 1. VARIABLES ASSIGNMENT"
      ]
    },
    {
      "cell_type": "markdown",
      "metadata": {
        "id": "75YN6NcVlv50"
      },
      "source": [
        "**MINI CHALLENGE #1:**\n",
        "- **We defined a variable student_id and we assigned these 3 values listed below to it. Without executing any code cells, what will these lines of code generate?**\n",
        "- **Verify your answer by executing the code cells** \n",
        "\n",
        "\n",
        "\n",
        "```\n",
        "student_id = 3324\n",
        "student_id = 3400\n",
        "student_id = 3530\n",
        "student_id\n",
        "```\n"
      ]
    },
    {
      "cell_type": "code",
      "metadata": {
        "id": "AbXq1BsUpcpu",
        "colab": {
          "base_uri": "https://localhost:8080/"
        },
        "outputId": "0913d01d-43a8-41cf-dd44-3c7834ae7faa"
      },
      "source": [
        "student_id = 3324\n",
        "student_id = 3400\n",
        "student_id = 3530\n",
        "student_id "
      ],
      "execution_count": null,
      "outputs": [
        {
          "output_type": "execute_result",
          "data": {
            "text/plain": [
              "3530"
            ]
          },
          "metadata": {},
          "execution_count": 1
        }
      ]
    },
    {
      "cell_type": "markdown",
      "metadata": {
        "id": "m-cJsnjeoFOa"
      },
      "source": [
        "**MINI CHALLENGE #2:**\n",
        "- **We defined a variable codetopia_id and we assigned these 2 values listed below to it. Without executing any code cells, what will these lines of code generate?**\n",
        "- **Verify your answer by executing the code cells** \n",
        "\n",
        "\n",
        "\n",
        "```\n",
        "codetopia_id = 112\n",
        "codetopia_id = 115.3\n",
        "type(codetopia_id)\n",
        "```\n"
      ]
    },
    {
      "cell_type": "code",
      "metadata": {
        "id": "wjaFVDJ2oESl",
        "colab": {
          "base_uri": "https://localhost:8080/"
        },
        "outputId": "b54bfd07-82f7-4637-fa23-e18ac3126ccd"
      },
      "source": [
        "codetopia_id = 112\n",
        "codetopia_id = 115.3\n",
        "type(codetopia_id)"
      ],
      "execution_count": null,
      "outputs": [
        {
          "output_type": "execute_result",
          "data": {
            "text/plain": [
              "float"
            ]
          },
          "metadata": {},
          "execution_count": 2
        }
      ]
    },
    {
      "cell_type": "markdown",
      "metadata": {
        "id": "lsCfJJEkkqGQ"
      },
      "source": [
        "# 2. MATH OPERATIONS"
      ]
    },
    {
      "cell_type": "markdown",
      "metadata": {
        "id": "8UaT7FRdNnCQ"
      },
      "source": [
        "**MINI CHALLENGE #3:** \n",
        "- **Write a code that calculates the total amount of money codetopia management spends on tutor fees if the total number of tutors are 23 and each tutor is paid 2500 cedis** \n"
      ]
    },
    {
      "cell_type": "code",
      "metadata": {
        "id": "qMFnXorONnoa",
        "colab": {
          "base_uri": "https://localhost:8080/"
        },
        "outputId": "57d69887-8cd4-4545-be94-5bc3588d839f"
      },
      "source": [
        "number_of_tutors = 23\n",
        "amount_paid = 2500\n",
        "total_amount = (number_of_tutors * amount_paid)\n",
        "total_amount"
      ],
      "execution_count": 1,
      "outputs": [
        {
          "output_type": "execute_result",
          "data": {
            "text/plain": [
              "57500"
            ]
          },
          "metadata": {},
          "execution_count": 1
        }
      ]
    },
    {
      "cell_type": "markdown",
      "metadata": {
        "id": "iB_6pgJeNnCV"
      },
      "source": [
        "**MINI CHALLENGE #4:**\n",
        "- **Write a code that takes in the amount students paid a day and calculate the total amount of money received after two days:**\n",
        "  - **fees paid on day 1 = 260 cedis** \n",
        "  - **fees paid on day 2 = 280 cedis**"
      ]
    },
    {
      "cell_type": "code",
      "metadata": {
        "id": "eqOkR8Qkrgjr",
        "colab": {
          "base_uri": "https://localhost:8080/"
        },
        "outputId": "4d0be6a6-d979-4a37-915b-22ac5e3a20ec"
      },
      "source": [
        "first_day = 260\n",
        "second_day = 280\n",
        "total_amount = (first_day + second_day)\n",
        "print(total_amount) "
      ],
      "execution_count": 4,
      "outputs": [
        {
          "output_type": "stream",
          "name": "stdout",
          "text": [
            "540\n"
          ]
        }
      ]
    },
    {
      "cell_type": "markdown",
      "metadata": {
        "id": "b_4wxmCklMQE"
      },
      "source": [
        "# 3. ORDER OF OPERATIONS (PRECEDENCE)"
      ]
    },
    {
      "cell_type": "markdown",
      "metadata": {
        "id": "LD0jeVJddRrf"
      },
      "source": [
        "**MINI CHALLENGE #5:**\n",
        "- **Assume that 15 students joined the coding program at a fee of 300 cedis per a student. Codetopia later increased the fee to 500 cedis per a student. Calculate the profit that will be made.**\n",
        "\n",
        "\n",
        "\n",
        "\n"
      ]
    },
    {
      "cell_type": "code",
      "metadata": {
        "id": "ieENt2DUNwDC",
        "colab": {
          "base_uri": "https://localhost:8080/"
        },
        "outputId": "274fb3dc-e58f-4373-d051-e314b98c999b"
      },
      "source": [
        "initial_amount = 300\n",
        "increased_amount 500\n",
        "number_of_student =15\n",
        "profit = (number_of_student * increased_amount) - (number_of_student * initial_amount)\n",
        "profit"
      ],
      "execution_count": null,
      "outputs": [
        {
          "output_type": "execute_result",
          "data": {
            "text/plain": [
              "3000"
            ]
          },
          "metadata": {},
          "execution_count": 7
        }
      ]
    },
    {
      "cell_type": "markdown",
      "metadata": {
        "id": "s79S7MtycPGX"
      },
      "source": [
        "**MINI CHALLENGE #6:** \n",
        "- **Write a code that performs the following mathematical operation: z = |x − y| * (x + y)**"
      ]
    },
    {
      "cell_type": "code",
      "metadata": {
        "id": "yGVvKkDKc0LR",
        "colab": {
          "base_uri": "https://localhost:8080/"
        },
        "outputId": "b7c804ab-88aa-4382-81a3-1329e12f17f7"
      },
      "source": [
        "x = int(input(\"input number for x =\"))\n",
        "y = int(input(\"input number for y =\"))\n",
        "z = abs(x - y) * (x+y)\n",
        "print (z)"
      ],
      "execution_count": null,
      "outputs": [
        {
          "name": "stdout",
          "output_type": "stream",
          "text": [
            "input number for x =21\n"
          ]
        }
      ]
    },
    {
      "cell_type": "markdown",
      "metadata": {
        "id": "Jvxd_A696qnl"
      },
      "source": [
        "# 4. PRINT OPERATION"
      ]
    },
    {
      "cell_type": "markdown",
      "metadata": {
        "id": "__Ybj8rmGKpY"
      },
      "source": [
        "**MINI CHALLENGE #7:**\n",
        "- **Write a code that print out the statement below along with your name**\n",
        "- **i.e.: The total number of students at Codetopia are 30. (Barbara)** "
      ]
    },
    {
      "cell_type": "code",
      "metadata": {
        "id": "i6LmOCF6Gd6G",
        "colab": {
          "base_uri": "https://localhost:8080/"
        },
        "outputId": "1344654c-4055-456e-a37d-db1ca15ab085"
      },
      "source": [
        "name= '.(victoria)'\n",
        "print('the total number of students at codetopia are 30 {}'.format(name))"
      ],
      "execution_count": null,
      "outputs": [
        {
          "output_type": "stream",
          "name": "stdout",
          "text": [
            "the total number of students at codetopia are 30 .(victoria)\n"
          ]
        }
      ]
    },
    {
      "cell_type": "markdown",
      "metadata": {
        "id": "hp9P-qXN-Gll"
      },
      "source": [
        "# 5. GET USER INPUT"
      ]
    },
    {
      "cell_type": "markdown",
      "metadata": {
        "id": "L8v5D4y1CIUQ"
      },
      "source": [
        "**MINI CHALLENGE #8:** \n",
        "- **Write a code that takes in the name of the company, course fee, the number of courses that you want to study and prints out the total funds required to pay for the courses. Find a sample expected output below:**\n",
        "\n",
        "  - Enter the fee for a course you want to study: 3000  \n",
        "  - Enter the number of courses that you want to pay for: 5\n",
        "  - Enter the name of the company that you want to study at: UniDev\n",
        "  - The total funds required to pay for 5 number of Codetopia courses at 3000 is 15000\n"
      ]
    },
    {
      "cell_type": "code",
      "metadata": {
        "id": "j3j5u_H8rxD-",
        "colab": {
          "base_uri": "https://localhost:8080/"
        },
        "outputId": "4016d14e-fa28-4946-e542-8c98d1482517"
      },
      "source": [
        "fee = int(input(\"enter the fee for a course you want to study: \"))\n",
        "no_of_courses = int(input(\"enter the number of courses you want to pay for: \"))\n",
        "company = input(\"enter the name of company that you want to study at: \")\n",
        "total_cost = fee * no_of_courses\n",
        "print(\"the total funds required to pay for {} number of codetopia courses at {} is {}\".format(no_of_courses, fee, total_cost))"
      ],
      "execution_count": null,
      "outputs": [
        {
          "output_type": "stream",
          "name": "stdout",
          "text": [
            "enter the fee for a course you want to study: 3000\n",
            "enter the number of courses you want to pay for: 5\n",
            "enter the name of company that you want to study at: UniDev\n",
            "the total funds required to pay for 5 number of codetopia courses at 3000 is 15000\n"
          ]
        }
      ]
    },
    {
      "cell_type": "markdown",
      "metadata": {
        "id": "Jm-0XhPntGtK"
      },
      "source": [
        "# EXCELLENT JOB"
      ]
    }
  ]
}